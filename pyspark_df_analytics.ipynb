{
 "cells": [
  {
   "cell_type": "code",
   "execution_count": null,
   "metadata": {},
   "outputs": [],
   "source": [
    "!pip instal pyspark"
   ]
  },
  {
   "cell_type": "code",
   "execution_count": null,
   "metadata": {},
   "outputs": [],
   "source": [
    "import csv\n",
    "import random\n",
    "\n",
    "# Define number of rows and desired column names\n",
    "num_rows = 100\n",
    "column_names = [\"Name\", \"Age\", \"City\"]\n",
    "\n",
    "# Open the CSV file for writing\n",
    "with open(\"random_data.csv\", \"w\", newline=\"\") as csvfile:\n",
    "  # Create a CSV writer object\n",
    "  writer = csv.writer(csvfile)\n",
    "\n",
    "  # Write the header row\n",
    "  writer.writerow(column_names)\n",
    "\n",
    "  # Generate and write random data rows\n",
    "  for _ in range(num_rows):\n",
    "    name = f\"Person {random.randint(1, 1000)}\"\n",
    "    age = random.randint(18, 65)\n",
    "    city = [\"New York\", \"Los Angeles\", \"Chicago\", \"Houston\"][random.randint(0, 3)]\n",
    "    writer.writerow([name, age, city])\n",
    "\n",
    "print(f\"Created CSV file 'random_data.csv' with {num_rows} rows.\")\n"
   ]
  }
 ],
 "metadata": {
  "kernelspec": {
   "display_name": "FASTAPI",
   "language": "python",
   "name": "python3"
  },
  "language_info": {
   "name": "python",
   "version": "3.11.2"
  }
 },
 "nbformat": 4,
 "nbformat_minor": 2
}
